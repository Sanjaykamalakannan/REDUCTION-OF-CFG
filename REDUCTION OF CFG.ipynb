{
  "nbformat": 4,
  "nbformat_minor": 0,
  "metadata": {
    "colab": {
      "provenance": []
    },
    "kernelspec": {
      "name": "python3",
      "display_name": "Python 3"
    },
    "language_info": {
      "name": "python"
    }
  },
  "cells": [
    {
      "cell_type": "markdown",
      "source": [
        "\n",
        "## Reduction of CGF\n",
        "---\n",
        "\n"
      ],
      "metadata": {
        "id": "uY0dJYJdnfwB"
      }
    },
    {
      "cell_type": "code",
      "source": [
        "def eliminate_null_productions(grammar):\n",
        "    nullable = {non_terminal for non_terminal, productions in grammar.items() if \"\" in productions}\n",
        "\n",
        "    while True:\n",
        "        updated_nullable = nullable.copy()\n",
        "\n",
        "        for non_terminal, productions in grammar.items():\n",
        "            for production in productions:\n",
        "                if all(symbol in nullable for symbol in production):\n",
        "                    updated_nullable.add(non_terminal)\n",
        "\n",
        "        if updated_nullable == nullable:\n",
        "            break\n",
        "\n",
        "        nullable = updated_nullable\n",
        "\n",
        "    new_grammar = {non_terminal: {production for production in productions if not any(symbol in nullable for symbol in production)} for non_terminal, productions in grammar.items()}\n",
        "\n",
        "    return new_grammar, nullable\n",
        "\n",
        "\n",
        "def eliminate_unit_productions(grammar):\n",
        "    unit_productions = {non_terminal: set() for non_terminal in grammar}\n",
        "    non_unit_productions = {non_terminal: set() for non_terminal in grammar}\n",
        "\n",
        "    for non_terminal, productions in grammar.items():\n",
        "        for production in productions:\n",
        "            if len(production) == 1 and production.isupper():\n",
        "                unit_productions[non_terminal].add(production)\n",
        "            else:\n",
        "                non_unit_productions[non_terminal].add(production)\n",
        "\n",
        "    for non_terminal, unit_set in unit_productions.items():\n",
        "        while unit_set:\n",
        "            unit = unit_set.pop()\n",
        "            non_unit_productions[non_terminal].update(non_unit_productions.get(unit, set()))\n",
        "            unit_set.difference_update({u for u in non_unit_productions.get(unit, set()) if len(u) == 1 and u.isupper()})\n",
        "\n",
        "    new_grammar = {non_terminal: non_unit_productions[non_terminal] for non_terminal in grammar}\n",
        "\n",
        "    return new_grammar\n",
        "\n",
        "\n",
        "def get_user_input():\n",
        "    grammar = {}\n",
        "    non_terminals = set()\n",
        "\n",
        "    while True:\n",
        "        non_terminal = input(\"Enter a non-terminal (or 'done' to finish): \").strip()\n",
        "\n",
        "        if non_terminal.lower() == 'done':\n",
        "            break\n",
        "\n",
        "        if non_terminal.isupper():\n",
        "            if non_terminal not in non_terminals:\n",
        "                non_terminals.add(non_terminal)\n",
        "                productions = input(f\"Enter productions for {non_terminal}: \").split('|')\n",
        "                grammar[non_terminal] = {production.strip() for production in productions}\n",
        "\n",
        "            else:\n",
        "                print(\"Non-terminal already entered. Please enter a new one.\")\n",
        "        else:\n",
        "            print(\"Invalid non-terminal. Non-terminals should be uppercase.\")\n",
        "\n",
        "    return grammar\n",
        "\n",
        "\n",
        "# Get user input for the context-free grammar\n",
        "user_grammar = get_user_input()\n",
        "\n",
        "# Eliminate null productions\n",
        "reduced_grammar_null, nullable_symbols = eliminate_null_productions(user_grammar)\n",
        "\n",
        "# Print output for null productions\n",
        "print(\"\\nNull Production Output:\")\n",
        "print(\"Nullable symbols:\", nullable_symbols)\n",
        "for non_terminal, productions in reduced_grammar_null.items():\n",
        "    print(f\"{non_terminal} -> {' | '.join(productions)}\")\n",
        "\n",
        "# Eliminate unit productions\n",
        "reduced_grammar_unit = eliminate_unit_productions(user_grammar)\n",
        "\n",
        "# Print output for unit productions\n",
        "print(\"\\nUnit Production Output:\")\n",
        "for non_terminal, productions in reduced_grammar_unit.items():\n",
        "    print(f\"{non_terminal} -> {' | '.join(productions)}\")"
      ],
      "metadata": {
        "colab": {
          "base_uri": "https://localhost:8080/"
        },
        "id": "Ya1Fz3M9adDy",
        "outputId": "255c7bda-c18b-4720-a140-96547c556810"
      },
      "execution_count": null,
      "outputs": [
        {
          "output_type": "stream",
          "name": "stdout",
          "text": [
            "Enter a non-terminal (or 'done' to finish): s\n",
            "Invalid non-terminal. Non-terminals should be uppercase.\n",
            "Enter a non-terminal (or 'done' to finish): S\n",
            "Enter productions for S: OA|1B|C\n",
            "Enter a non-terminal (or 'done' to finish): A\n",
            "Enter productions for A: OS|OO\n",
            "Enter a non-terminal (or 'done' to finish): B\n",
            "Enter productions for B: 1|A\n",
            "Enter a non-terminal (or 'done' to finish): C\n",
            "Enter productions for C: 01\n",
            "Enter a non-terminal (or 'done' to finish): done\n",
            "\n",
            "Null Production Output:\n",
            "Nullable symbols: set()\n",
            "S -> OA | C | 1B\n",
            "A -> OS | OO\n",
            "B -> 1 | A\n",
            "C -> 01\n",
            "\n",
            "Unit Production Output:\n",
            "S -> OA | 01 | 1B\n",
            "A -> OS | OO\n",
            "B -> 1 | OS | OO\n",
            "C -> 01\n"
          ]
        }
      ]
    },
    {
      "cell_type": "code",
      "source": [],
      "metadata": {
        "id": "hfMMr0qUnfEn"
      },
      "execution_count": null,
      "outputs": []
    }
  ]
}